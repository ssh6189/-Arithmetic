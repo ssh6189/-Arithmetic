{
 "cells": [
  {
   "cell_type": "markdown",
   "metadata": {},
   "source": [
    "<H1>1. 두 정수 A와 B를 입력받은 다음, A+B를 출력하는 프로그램을 작성하시오. 두 정수 A와 B가 주어진다. (0 < A, B < 10)</H1>"
   ]
  },
  {
   "cell_type": "code",
   "execution_count": 7,
   "metadata": {
    "ExecuteTime": {
     "end_time": "2020-02-09T23:59:12.051632Z",
     "start_time": "2020-02-09T23:59:10.683573Z"
    }
   },
   "outputs": [
    {
     "name": "stdout",
     "output_type": "stream",
     "text": [
      "2 3\n",
      "5\n"
     ]
    }
   ],
   "source": [
    "a, b = map(int, input().split())\n",
    "print(a+b)"
   ]
  },
  {
   "cell_type": "markdown",
   "metadata": {},
   "source": [
    "<H1>2. 두 정수 A와 B를 입력받은 다음, A-B를 출력하는 프로그램을 작성하시오. 두 정수 A와 B가 주어진다. (0 < A, B < 10)</H1>"
   ]
  },
  {
   "cell_type": "code",
   "execution_count": 8,
   "metadata": {
    "ExecuteTime": {
     "end_time": "2020-02-09T23:59:15.468604Z",
     "start_time": "2020-02-09T23:59:14.323321Z"
    }
   },
   "outputs": [
    {
     "name": "stdout",
     "output_type": "stream",
     "text": [
      "2 3\n",
      "-1\n"
     ]
    }
   ],
   "source": [
    "a, b = map(int, input().split())\n",
    "print(a-b)"
   ]
  },
  {
   "cell_type": "markdown",
   "metadata": {
    "ExecuteTime": {
     "end_time": "2020-02-10T00:00:59.539815Z",
     "start_time": "2020-02-10T00:00:59.531680Z"
    }
   },
   "source": [
    "<H1>3. 두 정수 A와 B를 입력받은 다음, A×B를 출력하는 프로그램을 작성하시오. 두 정수 A와 B가 주어진다. (0 < A, B < 10)</H1>"
   ]
  },
  {
   "cell_type": "code",
   "execution_count": 10,
   "metadata": {
    "ExecuteTime": {
     "end_time": "2020-02-10T00:01:07.461518Z",
     "start_time": "2020-02-10T00:01:05.114131Z"
    }
   },
   "outputs": [
    {
     "name": "stdout",
     "output_type": "stream",
     "text": [
      "2 3\n",
      "6\n"
     ]
    }
   ],
   "source": [
    "a, b = map(int, input().split())\n",
    "print(a*b)"
   ]
  },
  {
   "cell_type": "markdown",
   "metadata": {},
   "source": [
    "<H1>4. 두 정수 A와 B를 입력받은 다음, A/B를 출력하는 프로그램을 작성하시오. 두 정수 A와 B가 주어진다. (0 < A, B < 10)</H1>"
   ]
  },
  {
   "cell_type": "code",
   "execution_count": 13,
   "metadata": {
    "ExecuteTime": {
     "end_time": "2020-02-10T00:07:20.405412Z",
     "start_time": "2020-02-10T00:06:23.495705Z"
    }
   },
   "outputs": [
    {
     "name": "stdout",
     "output_type": "stream",
     "text": [
      "3 5\n",
      "0.6\n"
     ]
    }
   ],
   "source": [
    "a, b = map(int, input().split())\n",
    "print(a/b)"
   ]
  },
  {
   "cell_type": "markdown",
   "metadata": {},
   "source": [
    "<H1>5. 두 자연수 A와 B가 주어진다. 이때, A+B, A-B, A*B, A/B(몫), A%B(나머지)를 출력하는 프로그램을 작성하시오. 두 자연수 A와 B가 주어진다. (1 ≤ A, B ≤ 10,000)</H1> "
   ]
  },
  {
   "cell_type": "code",
   "execution_count": 2,
   "metadata": {
    "ExecuteTime": {
     "end_time": "2020-02-11T03:18:33.891432Z",
     "start_time": "2020-02-11T03:18:32.712402Z"
    }
   },
   "outputs": [
    {
     "name": "stdout",
     "output_type": "stream",
     "text": [
      "3 5\n",
      "8\n",
      "-2\n",
      "15\n",
      "0\n",
      "3\n"
     ]
    }
   ],
   "source": [
    "a, b = map(int, input().split())\n",
    "print(int(a+b))\n",
    "print(int(a-b))\n",
    "print(int(a*b))\n",
    "print(int(a/b))\n",
    "print(int(a%b))"
   ]
  },
  {
   "cell_type": "markdown",
   "metadata": {},
   "source": [
    "<H1>6. (A+B)%C는 (A%C + B%C)%C 와 같을까?</H1>\n",
    "\n",
    "<H1>    (A×B)%C는 (A%C × B%C)%C 와 같을까?</H1>\n",
    " \n",
    "<H1>    세 수 A, B, C가 주어졌을 때,</H1>\n",
    "    \n",
    "<H1>    위의 네 가지 값을 구하는 프로그램을 작성하시오.</H1>"
   ]
  },
  {
   "cell_type": "code",
   "execution_count": 5,
   "metadata": {
    "ExecuteTime": {
     "end_time": "2020-02-11T04:02:41.551213Z",
     "start_time": "2020-02-11T04:02:38.891931Z"
    }
   },
   "outputs": [
    {
     "name": "stdout",
     "output_type": "stream",
     "text": [
      "5 8 4\n",
      "1\n",
      "1\n",
      "0\n",
      "0\n"
     ]
    }
   ],
   "source": [
    "A, B, C = map(int, input().split())\n",
    "\n",
    "a = (A+B)%C\n",
    "b = (A%C + B%C)%C\n",
    "c = (A*B)%C\n",
    "d = (A%C * B%C)%C\n",
    "\n",
    "print(a)\n",
    "print(b)\n",
    "print(c)\n",
    "print(d)"
   ]
  },
  {
   "cell_type": "markdown",
   "metadata": {},
   "source": [
    "<H1>7.(세자리 수) * (세자리 수)는 다음과 같은 과정을 통하여 이루어진다.</H1>\n",
    "<img src = gobsem.jpg>\n",
    "<H1>(1)과 (2)위치에 들어갈 세 자리 자연수가 주어질 때 (3), (4), (5), (6)위치에 들어갈 값을 구하는 프로그램을 작성하시오.</H1>"
   ]
  },
  {
   "cell_type": "code",
   "execution_count": 3,
   "metadata": {
    "ExecuteTime": {
     "start_time": "2020-02-11T08:51:51.706Z"
    }
   },
   "outputs": [
    {
     "name": "stdout",
     "output_type": "stream",
     "text": [
      "472\n",
      "385\n",
      "2360\n",
      "37760\n",
      "141600\n",
      "181720\n"
     ]
    }
   ],
   "source": [
    "A = int(input(\"\"))\n",
    "B = int(input(\"\"))\n",
    "\n",
    "result = A * B\n",
    "\n",
    "s1 = A*(B%10)\n",
    "s2 = (A*(int(B/10)%10))*10\n",
    "s3 = (A*(int(B/100)%10))*100\n",
    "\n",
    "print(s1)\n",
    "print(s2)\n",
    "print(s3)\n",
    "print(s1 + s2 + s3)"
   ]
  }
 ],
 "metadata": {
  "kernelspec": {
   "display_name": "Python 3",
   "language": "python",
   "name": "python3"
  },
  "language_info": {
   "codemirror_mode": {
    "name": "ipython",
    "version": 3
   },
   "file_extension": ".py",
   "mimetype": "text/x-python",
   "name": "python",
   "nbconvert_exporter": "python",
   "pygments_lexer": "ipython3",
   "version": "3.7.4"
  }
 },
 "nbformat": 4,
 "nbformat_minor": 4
}
